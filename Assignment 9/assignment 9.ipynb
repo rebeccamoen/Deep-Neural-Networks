{
 "cells": [
  {
   "cell_type": "code",
   "execution_count": 1,
   "metadata": {},
   "outputs": [],
   "source": [
    "import math\n",
    "import random\n",
    "import os\n",
    "import imageio\n",
    "import glob\n",
    "import numpy as np\n",
    "from PIL import Image\n",
    "from datetime import timedelta, datetime\n",
    "from IPython.display import display, clear_output\n",
    "\n",
    "from keras.layers import Input, Dense, Conv2D, BatchNormalization, MaxPooling2D, UpSampling2D, Flatten, Activation\n",
    "from keras.callbacks import EarlyStopping, ModelCheckpoint\n",
    "from keras.preprocessing.image import ImageDataGenerator\n",
    "from keras.models import Model, Sequential\n",
    "from keras.callbacks import TensorBoard\n",
    "\n",
    "\n",
    "import cv2 #OpenCV library, used to make date stamps onto the images\n",
    "import matplotlib.pyplot as plt\n",
    "%matplotlib inline  "
   ]
  },
  {
   "cell_type": "markdown",
   "metadata": {},
   "source": [
    "### About \"Food-11\" dataset\n",
    "This is a dataset containing 16643 food images grouped in 11 major food categories. The 11 categories are Bread, Dairy product, Dessert, Egg, Fried food, Meat, Noodles/Pasta, Rice, Seafood, Soup, and Vegetable/Fruit. The whole dataset is divided in three parts: training, validation and evaluation."
   ]
  },
  {
   "cell_type": "code",
   "execution_count": 2,
   "metadata": {},
   "outputs": [],
   "source": [
    "# Load dataset\n",
    "def load_dataset(path):\n",
    "    files = os.listdir(path)\n",
    "    x = []\n",
    "    for file in files: # number of files to go through\n",
    "        im = imageio.imread(os.path.join(path, file))\n",
    "        x.append(im)\n",
    "    x = np.asarray(x)\n",
    "    return x"
   ]
  },
  {
   "cell_type": "code",
   "execution_count": 3,
   "metadata": {
    "scrolled": true
   },
   "outputs": [
    {
     "name": "stderr",
     "output_type": "stream",
     "text": [
      "D:\\anaconda3\\lib\\site-packages\\PIL\\TiffImagePlugin.py:770: UserWarning: Possibly corrupt EXIF data.  Expecting to read 3080192 bytes but only got 0. Skipping tag 0\n",
      "  warnings.warn(\n",
      "D:\\anaconda3\\lib\\site-packages\\PIL\\TiffImagePlugin.py:770: UserWarning: Possibly corrupt EXIF data.  Expecting to read 2162688 bytes but only got 0. Skipping tag 0\n",
      "  warnings.warn(\n",
      "D:\\anaconda3\\lib\\site-packages\\PIL\\TiffImagePlugin.py:770: UserWarning: Possibly corrupt EXIF data.  Expecting to read 65536 bytes but only got 0. Skipping tag 0\n",
      "  warnings.warn(\n",
      "D:\\anaconda3\\lib\\site-packages\\PIL\\TiffImagePlugin.py:792: UserWarning: Corrupt EXIF data.  Expecting to read 12 bytes but only got 4. \n",
      "  warnings.warn(str(msg))\n",
      "D:\\anaconda3\\lib\\site-packages\\PIL\\TiffImagePlugin.py:770: UserWarning: Possibly corrupt EXIF data.  Expecting to read 3473408 bytes but only got 0. Skipping tag 0\n",
      "  warnings.warn(\n",
      "D:\\anaconda3\\lib\\site-packages\\PIL\\TiffImagePlugin.py:792: UserWarning: Corrupt EXIF data.  Expecting to read 12 bytes but only got 11. \n",
      "  warnings.warn(str(msg))\n",
      "D:\\anaconda3\\lib\\site-packages\\PIL\\TiffImagePlugin.py:770: UserWarning: Possibly corrupt EXIF data.  Expecting to read 2621440 bytes but only got 0. Skipping tag 0\n",
      "  warnings.warn(\n",
      "D:\\anaconda3\\lib\\site-packages\\PIL\\TiffImagePlugin.py:770: UserWarning: Possibly corrupt EXIF data.  Expecting to read 3670016 bytes but only got 0. Skipping tag 0\n",
      "  warnings.warn(\n",
      "D:\\anaconda3\\lib\\site-packages\\PIL\\TiffImagePlugin.py:792: UserWarning: Corrupt EXIF data.  Expecting to read 12 bytes but only got 3. \n",
      "  warnings.warn(str(msg))\n",
      "D:\\anaconda3\\lib\\site-packages\\PIL\\TiffImagePlugin.py:770: UserWarning: Possibly corrupt EXIF data.  Expecting to read 1507328 bytes but only got 0. Skipping tag 0\n",
      "  warnings.warn(\n",
      "D:\\anaconda3\\lib\\site-packages\\PIL\\TiffImagePlugin.py:770: UserWarning: Possibly corrupt EXIF data.  Expecting to read 327680 bytes but only got 0. Skipping tag 0\n",
      "  warnings.warn(\n",
      "D:\\anaconda3\\lib\\site-packages\\PIL\\TiffImagePlugin.py:770: UserWarning: Possibly corrupt EXIF data.  Expecting to read 33555456 bytes but only got 0. Skipping tag 59392\n",
      "  warnings.warn(\n",
      "D:\\anaconda3\\lib\\site-packages\\PIL\\TiffImagePlugin.py:770: UserWarning: Possibly corrupt EXIF data.  Expecting to read 2752512 bytes but only got 0. Skipping tag 0\n",
      "  warnings.warn(\n",
      "D:\\anaconda3\\lib\\site-packages\\PIL\\TiffImagePlugin.py:770: UserWarning: Possibly corrupt EXIF data.  Expecting to read 2424832 bytes but only got 0. Skipping tag 0\n",
      "  warnings.warn(\n",
      "D:\\anaconda3\\lib\\site-packages\\PIL\\TiffImagePlugin.py:770: UserWarning: Possibly corrupt EXIF data.  Expecting to read 1835008 bytes but only got 0. Skipping tag 0\n",
      "  warnings.warn(\n",
      "D:\\anaconda3\\lib\\site-packages\\PIL\\TiffImagePlugin.py:770: UserWarning: Possibly corrupt EXIF data.  Expecting to read 3801088 bytes but only got 0. Skipping tag 0\n",
      "  warnings.warn(\n",
      "D:\\anaconda3\\lib\\site-packages\\PIL\\TiffImagePlugin.py:770: UserWarning: Possibly corrupt EXIF data.  Expecting to read 1245184 bytes but only got 0. Skipping tag 0\n",
      "  warnings.warn(\n",
      "D:\\anaconda3\\lib\\site-packages\\PIL\\TiffImagePlugin.py:770: UserWarning: Possibly corrupt EXIF data.  Expecting to read 2293760 bytes but only got 0. Skipping tag 0\n",
      "  warnings.warn(\n",
      "D:\\anaconda3\\lib\\site-packages\\PIL\\TiffImagePlugin.py:770: UserWarning: Possibly corrupt EXIF data.  Expecting to read 589824 bytes but only got 0. Skipping tag 0\n",
      "  warnings.warn(\n",
      "D:\\anaconda3\\lib\\site-packages\\PIL\\TiffImagePlugin.py:770: UserWarning: Possibly corrupt EXIF data.  Expecting to read 720896 bytes but only got 0. Skipping tag 0\n",
      "  warnings.warn(\n",
      "D:\\anaconda3\\lib\\site-packages\\PIL\\TiffImagePlugin.py:770: UserWarning: Possibly corrupt EXIF data.  Expecting to read 917504 bytes but only got 0. Skipping tag 0\n",
      "  warnings.warn(\n",
      "D:\\anaconda3\\lib\\site-packages\\PIL\\TiffImagePlugin.py:792: UserWarning: Corrupt EXIF data.  Expecting to read 2 bytes but only got 0. \n",
      "  warnings.warn(str(msg))\n",
      "D:\\anaconda3\\lib\\site-packages\\PIL\\TiffImagePlugin.py:770: UserWarning: Possibly corrupt EXIF data.  Expecting to read 3866624 bytes but only got 0. Skipping tag 0\n",
      "  warnings.warn(\n",
      "D:\\anaconda3\\lib\\site-packages\\PIL\\TiffImagePlugin.py:770: UserWarning: Possibly corrupt EXIF data.  Expecting to read 1179648 bytes but only got 0. Skipping tag 0\n",
      "  warnings.warn(\n",
      "D:\\anaconda3\\lib\\site-packages\\PIL\\TiffImagePlugin.py:770: UserWarning: Possibly corrupt EXIF data.  Expecting to read 262144 bytes but only got 0. Skipping tag 0\n",
      "  warnings.warn(\n",
      "D:\\anaconda3\\lib\\site-packages\\PIL\\TiffImagePlugin.py:770: UserWarning: Possibly corrupt EXIF data.  Expecting to read 131072 bytes but only got 0. Skipping tag 0\n",
      "  warnings.warn(\n",
      "D:\\anaconda3\\lib\\site-packages\\PIL\\TiffImagePlugin.py:770: UserWarning: Possibly corrupt EXIF data.  Expecting to read 2883584 bytes but only got 0. Skipping tag 0\n",
      "  warnings.warn(\n",
      "D:\\anaconda3\\lib\\site-packages\\PIL\\TiffImagePlugin.py:770: UserWarning: Possibly corrupt EXIF data.  Expecting to read 102400 bytes but only got 0. Skipping tag 29184\n",
      "  warnings.warn(\n",
      "D:\\anaconda3\\lib\\site-packages\\PIL\\TiffImagePlugin.py:770: UserWarning: Possibly corrupt EXIF data.  Expecting to read 2949120 bytes but only got 0. Skipping tag 0\n",
      "  warnings.warn(\n",
      "D:\\anaconda3\\lib\\site-packages\\PIL\\TiffImagePlugin.py:770: UserWarning: Possibly corrupt EXIF data.  Expecting to read 393216 bytes but only got 0. Skipping tag 0\n",
      "  warnings.warn(\n",
      "D:\\anaconda3\\lib\\site-packages\\PIL\\TiffImagePlugin.py:770: UserWarning: Possibly corrupt EXIF data.  Expecting to read 1900544 bytes but only got 0. Skipping tag 0\n",
      "  warnings.warn(\n",
      "D:\\anaconda3\\lib\\site-packages\\PIL\\TiffImagePlugin.py:770: UserWarning: Possibly corrupt EXIF data.  Expecting to read 524288 bytes but only got 0. Skipping tag 0\n",
      "  warnings.warn(\n",
      "D:\\anaconda3\\lib\\site-packages\\PIL\\TiffImagePlugin.py:770: UserWarning: Possibly corrupt EXIF data.  Expecting to read 458752 bytes but only got 0. Skipping tag 0\n",
      "  warnings.warn(\n",
      "D:\\anaconda3\\lib\\site-packages\\PIL\\TiffImagePlugin.py:770: UserWarning: Possibly corrupt EXIF data.  Expecting to read 102400 bytes but only got 0. Skipping tag 4352\n",
      "  warnings.warn(\n",
      "D:\\anaconda3\\lib\\site-packages\\PIL\\TiffImagePlugin.py:770: UserWarning: Possibly corrupt EXIF data.  Expecting to read 1638400 bytes but only got 0. Skipping tag 0\n",
      "  warnings.warn(\n",
      "D:\\anaconda3\\lib\\site-packages\\PIL\\TiffImagePlugin.py:770: UserWarning: Possibly corrupt EXIF data.  Expecting to read 3014656 bytes but only got 0. Skipping tag 0\n",
      "  warnings.warn(\n",
      "D:\\anaconda3\\lib\\site-packages\\PIL\\TiffImagePlugin.py:770: UserWarning: Possibly corrupt EXIF data.  Expecting to read 3538944 bytes but only got 0. Skipping tag 0\n",
      "  warnings.warn(\n"
     ]
    },
    {
     "name": "stdout",
     "output_type": "stream",
     "text": [
      "original dataset: (1111,) (1111,)\n"
     ]
    }
   ],
   "source": [
    "path_train_orig = './training'\n",
    "path_val_orig = './validation'\n",
    "\n",
    "x_train = load_dataset(path_train_orig)\n",
    "x_val = load_dataset(path_val_orig)\n",
    "\n",
    "print('original dataset:', np.shape(x_train), np.shape(x_val))"
   ]
  },
  {
   "cell_type": "code",
   "execution_count": 4,
   "metadata": {},
   "outputs": [
    {
     "name": "stdout",
     "output_type": "stream",
     "text": [
      "['0_0.jpg', '0_1.jpg', '0_10.jpg', '0_100.jpg', '0_11.jpg', '0_12.jpg', '0_13.jpg', '0_14.jpg', '0_15.jpg', '0_16.jpg', '0_17.jpg', '0_18.jpg', '0_19.jpg', '0_2.jpg', '0_20.jpg', '0_21.jpg', '0_22.jpg', '0_23.jpg', '0_24.jpg', '0_25.jpg', '0_26.jpg', '0_27.jpg', '0_28.jpg', '0_29.jpg', '0_3.jpg', '0_30.jpg', '0_31.jpg', '0_32.jpg', '0_33.jpg', '0_34.jpg', '0_35.jpg', '0_36.jpg', '0_37.jpg', '0_38.jpg', '0_39.jpg', '0_4.jpg', '0_40.jpg', '0_41.jpg', '0_42.jpg', '0_43.jpg', '0_44.jpg', '0_45.jpg', '0_46.jpg', '0_47.jpg', '0_48.jpg', '0_49.jpg', '0_5.jpg', '0_50.jpg', '0_51.jpg', '0_52.jpg', '0_53.jpg', '0_54.jpg', '0_55.jpg', '0_56.jpg', '0_57.jpg', '0_58.jpg', '0_59.jpg', '0_6.jpg', '0_60.jpg', '0_61.jpg', '0_62.jpg', '0_63.jpg', '0_64.jpg', '0_65.jpg', '0_66.jpg', '0_67.jpg', '0_68.jpg', '0_69.jpg', '0_7.jpg', '0_70.jpg', '0_71.jpg', '0_72.jpg', '0_73.jpg', '0_74.jpg', '0_75.jpg', '0_76.jpg', '0_77.jpg', '0_78.jpg', '0_79.jpg', '0_8.jpg', '0_80.jpg', '0_81.jpg', '0_82.jpg', '0_83.jpg', '0_84.jpg', '0_85.jpg', '0_86.jpg', '0_87.jpg', '0_88.jpg', '0_89.jpg', '0_9.jpg', '0_90.jpg', '0_91.jpg', '0_92.jpg', '0_93.jpg', '0_94.jpg', '0_95.jpg', '0_96.jpg', '0_97.jpg', '0_98.jpg', '0_99.jpg', '10_0.jpg', '10_1.jpg', '10_10.jpg', '10_100.jpg', '10_11.jpg', '10_12.jpg', '10_13.jpg', '10_14.jpg', '10_15.jpg', '10_16.jpg', '10_17.jpg', '10_18.jpg', '10_19.jpg', '10_2.jpg', '10_20.jpg', '10_21.jpg', '10_22.jpg', '10_23.jpg', '10_24.jpg', '10_25.jpg', '10_26.jpg', '10_27.jpg', '10_28.jpg', '10_29.jpg', '10_3.jpg', '10_30.jpg', '10_31.jpg', '10_32.jpg', '10_33.jpg', '10_34.jpg', '10_35.jpg', '10_36.jpg', '10_37.jpg', '10_38.jpg', '10_39.jpg', '10_4.jpg', '10_40.jpg', '10_41.jpg', '10_42.jpg', '10_43.jpg', '10_44.jpg', '10_45.jpg', '10_46.jpg', '10_47.jpg', '10_48.jpg', '10_49.jpg', '10_5.jpg', '10_50.jpg', '10_51.jpg', '10_52.jpg', '10_53.jpg', '10_54.jpg', '10_55.jpg', '10_56.jpg', '10_57.jpg', '10_58.jpg', '10_59.jpg', '10_6.jpg', '10_60.jpg', '10_61.jpg', '10_62.jpg', '10_63.jpg', '10_64.jpg', '10_65.jpg', '10_66.jpg', '10_67.jpg', '10_68.jpg', '10_69.jpg', '10_7.jpg', '10_70.jpg', '10_71.jpg', '10_72.jpg', '10_73.jpg', '10_74.jpg', '10_75.jpg', '10_76.jpg', '10_77.jpg', '10_78.jpg', '10_79.jpg', '10_8.jpg', '10_80.jpg', '10_81.jpg', '10_82.jpg', '10_83.jpg', '10_84.jpg', '10_85.jpg', '10_86.jpg', '10_87.jpg', '10_88.jpg', '10_89.jpg', '10_9.jpg', '10_90.jpg', '10_91.jpg', '10_92.jpg', '10_93.jpg', '10_94.jpg', '10_95.jpg', '10_96.jpg', '10_97.jpg', '10_98.jpg', '10_99.jpg', '1_0.jpg', '1_1.jpg', '1_10.jpg', '1_100.jpg', '1_11.jpg', '1_12.jpg', '1_13.jpg', '1_14.jpg', '1_15.jpg', '1_16.jpg', '1_17.jpg', '1_18.jpg', '1_19.jpg', '1_2.jpg', '1_20.jpg', '1_21.jpg', '1_22.jpg', '1_23.jpg', '1_24.jpg', '1_25.jpg', '1_26.jpg', '1_27.jpg', '1_28.jpg', '1_29.jpg', '1_3.jpg', '1_30.jpg', '1_31.jpg', '1_32.jpg', '1_33.jpg', '1_34.jpg', '1_35.jpg', '1_36.jpg', '1_37.jpg', '1_38.jpg', '1_39.jpg', '1_4.jpg', '1_40.jpg', '1_41.jpg', '1_42.jpg', '1_43.jpg', '1_44.jpg', '1_45.jpg', '1_46.jpg', '1_47.jpg', '1_48.jpg', '1_49.jpg', '1_5.jpg', '1_50.jpg', '1_51.jpg', '1_52.jpg', '1_53.jpg', '1_54.jpg', '1_55.jpg', '1_56.jpg', '1_57.jpg', '1_58.jpg', '1_59.jpg', '1_6.jpg', '1_60.jpg', '1_61.jpg', '1_62.jpg', '1_63.jpg', '1_64.jpg', '1_65.jpg', '1_66.jpg', '1_67.jpg', '1_68.jpg', '1_69.jpg', '1_7.jpg', '1_70.jpg', '1_71.jpg', '1_72.jpg', '1_73.jpg', '1_74.jpg', '1_75.jpg', '1_76.jpg', '1_77.jpg', '1_78.jpg', '1_79.jpg', '1_8.jpg', '1_80.jpg', '1_81.jpg', '1_82.jpg', '1_83.jpg', '1_84.jpg', '1_85.jpg', '1_86.jpg', '1_87.jpg', '1_88.jpg', '1_89.jpg', '1_9.jpg', '1_90.jpg', '1_91.jpg', '1_92.jpg', '1_93.jpg', '1_94.jpg', '1_95.jpg', '1_96.jpg', '1_97.jpg', '1_98.jpg', '1_99.jpg', '2_0.jpg', '2_1.jpg', '2_10.jpg', '2_100.jpg', '2_11.jpg', '2_12.jpg', '2_13.jpg', '2_14.jpg', '2_15.jpg', '2_16.jpg', '2_17.jpg', '2_18.jpg', '2_19.jpg', '2_2.jpg', '2_20.jpg', '2_21.jpg', '2_22.jpg', '2_23.jpg', '2_24.jpg', '2_25.jpg', '2_26.jpg', '2_27.jpg', '2_28.jpg', '2_29.jpg', '2_3.jpg', '2_30.jpg', '2_31.jpg', '2_32.jpg', '2_33.jpg', '2_34.jpg', '2_35.jpg', '2_36.jpg', '2_37.jpg', '2_38.jpg', '2_39.jpg', '2_4.jpg', '2_40.jpg', '2_41.jpg', '2_42.jpg', '2_43.jpg', '2_44.jpg', '2_45.jpg', '2_46.jpg', '2_47.jpg', '2_48.jpg', '2_49.jpg', '2_5.jpg', '2_50.jpg', '2_51.jpg', '2_52.jpg', '2_53.jpg', '2_54.jpg', '2_55.jpg', '2_56.jpg', '2_57.jpg', '2_58.jpg', '2_59.jpg', '2_6.jpg', '2_60.jpg', '2_61.jpg', '2_62.jpg', '2_63.jpg', '2_64.jpg', '2_65.jpg', '2_66.jpg', '2_67.jpg', '2_68.jpg', '2_69.jpg', '2_7.jpg', '2_70.jpg', '2_71.jpg', '2_72.jpg', '2_73.jpg', '2_74.jpg', '2_75.jpg', '2_76.jpg', '2_77.jpg', '2_78.jpg', '2_79.jpg', '2_8.jpg', '2_80.jpg', '2_81.jpg', '2_82.jpg', '2_83.jpg', '2_84.jpg', '2_85.jpg', '2_86.jpg', '2_87.jpg', '2_88.jpg', '2_89.jpg', '2_9.jpg', '2_90.jpg', '2_91.jpg', '2_92.jpg', '2_93.jpg', '2_94.jpg', '2_95.jpg', '2_96.jpg', '2_97.jpg', '2_98.jpg', '2_99.jpg', '3_0.jpg', '3_1.jpg', '3_10.jpg', '3_100.jpg', '3_11.jpg', '3_12.jpg', '3_13.jpg', '3_14.jpg', '3_15.jpg', '3_16.jpg', '3_17.jpg', '3_18.jpg', '3_19.jpg', '3_2.jpg', '3_20.jpg', '3_21.jpg', '3_22.jpg', '3_23.jpg', '3_24.jpg', '3_25.jpg', '3_26.jpg', '3_27.jpg', '3_28.jpg', '3_29.jpg', '3_3.jpg', '3_30.jpg', '3_31.jpg', '3_32.jpg', '3_33.jpg', '3_34.jpg', '3_35.jpg', '3_36.jpg', '3_37.jpg', '3_38.jpg', '3_39.jpg', '3_4.jpg', '3_40.jpg', '3_41.jpg', '3_42.jpg', '3_43.jpg', '3_44.jpg', '3_45.jpg', '3_46.jpg', '3_47.jpg', '3_48.jpg', '3_49.jpg', '3_5.jpg', '3_50.jpg', '3_51.jpg', '3_52.jpg', '3_53.jpg', '3_54.jpg', '3_55.jpg', '3_56.jpg', '3_57.jpg', '3_58.jpg', '3_59.jpg', '3_6.jpg', '3_60.jpg', '3_61.jpg', '3_62.jpg', '3_63.jpg', '3_64.jpg', '3_65.jpg', '3_66.jpg', '3_67.jpg', '3_68.jpg', '3_69.jpg', '3_7.jpg', '3_70.jpg', '3_71.jpg', '3_72.jpg', '3_73.jpg', '3_74.jpg', '3_75.jpg', '3_76.jpg', '3_77.jpg', '3_78.jpg', '3_79.jpg', '3_8.jpg', '3_80.jpg', '3_81.jpg', '3_82.jpg', '3_83.jpg', '3_84.jpg', '3_85.jpg', '3_86.jpg', '3_87.jpg', '3_88.jpg', '3_89.jpg', '3_9.jpg', '3_90.jpg', '3_91.jpg', '3_92.jpg', '3_93.jpg', '3_94.jpg', '3_95.jpg', '3_96.jpg', '3_97.jpg', '3_98.jpg', '3_99.jpg', '4_0.jpg', '4_1.jpg', '4_10.jpg', '4_100.jpg', '4_11.jpg', '4_12.jpg', '4_13.jpg', '4_14.jpg', '4_15.jpg', '4_16.jpg', '4_17.jpg', '4_18.jpg', '4_19.jpg', '4_2.jpg', '4_20.jpg', '4_21.jpg', '4_22.jpg', '4_23.jpg', '4_24.jpg', '4_25.jpg', '4_26.jpg', '4_27.jpg', '4_28.jpg', '4_29.jpg', '4_3.jpg', '4_30.jpg', '4_31.jpg', '4_32.jpg', '4_33.jpg', '4_34.jpg', '4_35.jpg', '4_36.jpg', '4_37.jpg', '4_38.jpg', '4_39.jpg', '4_4.jpg', '4_40.jpg', '4_41.jpg', '4_42.jpg', '4_43.jpg', '4_44.jpg', '4_45.jpg', '4_46.jpg', '4_47.jpg', '4_48.jpg', '4_49.jpg', '4_5.jpg', '4_50.jpg', '4_51.jpg', '4_52.jpg', '4_53.jpg', '4_54.jpg', '4_55.jpg', '4_56.jpg', '4_57.jpg', '4_58.jpg', '4_59.jpg', '4_6.jpg', '4_60.jpg', '4_61.jpg', '4_62.jpg', '4_63.jpg', '4_64.jpg', '4_65.jpg', '4_66.jpg', '4_67.jpg', '4_68.jpg', '4_69.jpg', '4_7.jpg', '4_70.jpg', '4_71.jpg', '4_72.jpg', '4_73.jpg', '4_74.jpg', '4_75.jpg', '4_76.jpg', '4_77.jpg', '4_78.jpg', '4_79.jpg', '4_8.jpg', '4_80.jpg', '4_81.jpg', '4_82.jpg', '4_83.jpg', '4_84.jpg', '4_85.jpg', '4_86.jpg', '4_87.jpg', '4_88.jpg', '4_89.jpg', '4_9.jpg', '4_90.jpg', '4_91.jpg', '4_92.jpg', '4_93.jpg', '4_94.jpg', '4_95.jpg', '4_96.jpg', '4_97.jpg', '4_98.jpg', '4_99.jpg', '5_0.jpg', '5_1.jpg', '5_10.jpg', '5_100.jpg', '5_11.jpg', '5_12.jpg', '5_13.jpg', '5_14.jpg', '5_15.jpg', '5_16.jpg', '5_17.jpg', '5_18.jpg', '5_19.jpg', '5_2.jpg', '5_20.jpg', '5_21.jpg', '5_22.jpg', '5_23.jpg', '5_24.jpg', '5_25.jpg', '5_26.jpg', '5_27.jpg', '5_28.jpg', '5_29.jpg', '5_3.jpg', '5_30.jpg', '5_31.jpg', '5_32.jpg', '5_33.jpg', '5_34.jpg', '5_35.jpg', '5_36.jpg', '5_37.jpg', '5_38.jpg', '5_39.jpg', '5_4.jpg', '5_40.jpg', '5_41.jpg', '5_42.jpg', '5_43.jpg', '5_44.jpg', '5_45.jpg', '5_46.jpg', '5_47.jpg', '5_48.jpg', '5_49.jpg', '5_5.jpg', '5_50.jpg', '5_51.jpg', '5_52.jpg', '5_53.jpg', '5_54.jpg', '5_55.jpg', '5_56.jpg', '5_57.jpg', '5_58.jpg', '5_59.jpg', '5_6.jpg', '5_60.jpg', '5_61.jpg', '5_62.jpg', '5_63.jpg', '5_64.jpg', '5_65.jpg', '5_66.jpg', '5_67.jpg', '5_68.jpg', '5_69.jpg', '5_7.jpg', '5_70.jpg', '5_71.jpg', '5_72.jpg', '5_73.jpg', '5_74.jpg', '5_75.jpg', '5_76.jpg', '5_77.jpg', '5_78.jpg', '5_79.jpg', '5_8.jpg', '5_80.jpg', '5_81.jpg', '5_82.jpg', '5_83.jpg', '5_84.jpg', '5_85.jpg', '5_86.jpg', '5_87.jpg', '5_88.jpg', '5_89.jpg', '5_9.jpg', '5_90.jpg', '5_91.jpg', '5_92.jpg', '5_93.jpg', '5_94.jpg', '5_95.jpg', '5_96.jpg', '5_97.jpg', '5_98.jpg', '5_99.jpg', '6_0.jpg', '6_1.jpg', '6_10.jpg', '6_100.jpg', '6_11.jpg', '6_12.jpg', '6_13.jpg', '6_14.jpg', '6_15.jpg', '6_16.jpg', '6_17.jpg', '6_18.jpg', '6_19.jpg', '6_2.jpg', '6_20.jpg', '6_21.jpg', '6_22.jpg', '6_23.jpg', '6_24.jpg', '6_25.jpg', '6_26.jpg', '6_27.jpg', '6_28.jpg', '6_29.jpg', '6_3.jpg', '6_30.jpg', '6_31.jpg', '6_32.jpg', '6_33.jpg', '6_34.jpg', '6_35.jpg', '6_36.jpg', '6_37.jpg', '6_38.jpg', '6_39.jpg', '6_4.jpg', '6_40.jpg', '6_41.jpg', '6_42.jpg', '6_43.jpg', '6_44.jpg', '6_45.jpg', '6_46.jpg', '6_47.jpg', '6_48.jpg', '6_49.jpg', '6_5.jpg', '6_50.jpg', '6_51.jpg', '6_52.jpg', '6_53.jpg', '6_54.jpg', '6_55.jpg', '6_56.jpg', '6_57.jpg', '6_58.jpg', '6_59.jpg', '6_6.jpg', '6_60.jpg', '6_61.jpg', '6_62.jpg', '6_63.jpg', '6_64.jpg', '6_65.jpg', '6_66.jpg', '6_67.jpg', '6_68.jpg', '6_69.jpg', '6_7.jpg', '6_70.jpg', '6_71.jpg', '6_72.jpg', '6_73.jpg', '6_74.jpg', '6_75.jpg', '6_76.jpg', '6_77.jpg', '6_78.jpg', '6_79.jpg', '6_8.jpg', '6_80.jpg', '6_81.jpg', '6_82.jpg', '6_83.jpg', '6_84.jpg', '6_85.jpg', '6_86.jpg', '6_87.jpg', '6_88.jpg', '6_89.jpg', '6_9.jpg', '6_90.jpg', '6_91.jpg', '6_92.jpg', '6_93.jpg', '6_94.jpg', '6_95.jpg', '6_96.jpg', '6_97.jpg', '6_98.jpg', '6_99.jpg', '7_0.jpg', '7_1.jpg', '7_10.jpg', '7_100.jpg', '7_11.jpg', '7_12.jpg', '7_13.jpg', '7_14.jpg', '7_15.jpg', '7_16.jpg', '7_17.jpg', '7_18.jpg', '7_19.jpg', '7_2.jpg', '7_20.jpg', '7_21.jpg', '7_22.jpg', '7_23.jpg', '7_24.jpg', '7_25.jpg', '7_26.jpg', '7_27.jpg', '7_28.jpg', '7_29.jpg', '7_3.jpg', '7_30.jpg', '7_31.jpg', '7_32.jpg', '7_33.jpg', '7_34.jpg', '7_35.jpg', '7_36.jpg', '7_37.jpg', '7_38.jpg', '7_39.jpg', '7_4.jpg', '7_40.jpg', '7_41.jpg', '7_42.jpg', '7_43.jpg', '7_44.jpg', '7_45.jpg', '7_46.jpg', '7_47.jpg', '7_48.jpg', '7_49.jpg', '7_5.jpg', '7_50.jpg', '7_51.jpg', '7_52.jpg', '7_53.jpg', '7_54.jpg', '7_55.jpg', '7_56.jpg', '7_57.jpg', '7_58.jpg', '7_59.jpg', '7_6.jpg', '7_60.jpg', '7_61.jpg', '7_62.jpg', '7_63.jpg', '7_64.jpg', '7_65.jpg', '7_66.jpg', '7_67.jpg', '7_68.jpg', '7_69.jpg', '7_7.jpg', '7_70.jpg', '7_71.jpg', '7_72.jpg', '7_73.jpg', '7_74.jpg', '7_75.jpg', '7_76.jpg', '7_77.jpg', '7_78.jpg', '7_79.jpg', '7_8.jpg', '7_80.jpg', '7_81.jpg', '7_82.jpg', '7_83.jpg', '7_84.jpg', '7_85.jpg', '7_86.jpg', '7_87.jpg', '7_88.jpg', '7_89.jpg', '7_9.jpg', '7_90.jpg', '7_91.jpg', '7_92.jpg', '7_93.jpg', '7_94.jpg', '7_95.jpg', '7_96.jpg', '7_97.jpg', '7_98.jpg', '7_99.jpg', '8_0.jpg', '8_1.jpg', '8_10.jpg', '8_100.jpg', '8_11.jpg', '8_12.jpg', '8_13.jpg', '8_14.jpg', '8_15.jpg', '8_16.jpg', '8_17.jpg', '8_18.jpg', '8_19.jpg', '8_2.jpg', '8_20.jpg', '8_21.jpg', '8_22.jpg', '8_23.jpg', '8_24.jpg', '8_25.jpg', '8_26.jpg', '8_27.jpg', '8_28.jpg', '8_29.jpg', '8_3.jpg', '8_30.jpg', '8_31.jpg', '8_32.jpg', '8_33.jpg', '8_34.jpg', '8_35.jpg', '8_36.jpg', '8_37.jpg', '8_38.jpg', '8_39.jpg', '8_4.jpg', '8_40.jpg', '8_41.jpg', '8_42.jpg', '8_43.jpg', '8_44.jpg', '8_45.jpg', '8_46.jpg', '8_47.jpg', '8_48.jpg', '8_49.jpg', '8_5.jpg', '8_50.jpg', '8_51.jpg', '8_52.jpg', '8_53.jpg', '8_54.jpg', '8_55.jpg', '8_56.jpg', '8_57.jpg', '8_58.jpg', '8_59.jpg', '8_6.jpg', '8_60.jpg', '8_61.jpg', '8_62.jpg', '8_63.jpg', '8_64.jpg', '8_65.jpg', '8_66.jpg', '8_67.jpg', '8_68.jpg', '8_69.jpg', '8_7.jpg', '8_70.jpg', '8_71.jpg', '8_72.jpg', '8_73.jpg', '8_74.jpg', '8_75.jpg', '8_76.jpg', '8_77.jpg', '8_78.jpg', '8_79.jpg', '8_8.jpg', '8_80.jpg', '8_81.jpg', '8_82.jpg', '8_83.jpg', '8_84.jpg', '8_85.jpg', '8_86.jpg', '8_87.jpg', '8_88.jpg', '8_89.jpg', '8_9.jpg', '8_90.jpg', '8_91.jpg', '8_92.jpg', '8_93.jpg', '8_94.jpg', '8_95.jpg', '8_96.jpg', '8_97.jpg', '8_98.jpg', '8_99.jpg', '9_0.jpg', '9_1.jpg', '9_10.jpg', '9_100.jpg', '9_11.jpg', '9_12.jpg', '9_13.jpg', '9_14.jpg', '9_15.jpg', '9_16.jpg', '9_17.jpg', '9_18.jpg', '9_19.jpg', '9_2.jpg', '9_20.jpg', '9_21.jpg', '9_22.jpg', '9_23.jpg', '9_24.jpg', '9_25.jpg', '9_26.jpg', '9_27.jpg', '9_28.jpg', '9_29.jpg', '9_3.jpg', '9_30.jpg', '9_31.jpg', '9_32.jpg', '9_33.jpg', '9_34.jpg', '9_35.jpg', '9_36.jpg', '9_37.jpg', '9_38.jpg', '9_39.jpg', '9_4.jpg', '9_40.jpg', '9_41.jpg', '9_42.jpg', '9_43.jpg', '9_44.jpg', '9_45.jpg', '9_46.jpg', '9_47.jpg', '9_48.jpg', '9_49.jpg', '9_5.jpg', '9_50.jpg', '9_51.jpg', '9_52.jpg', '9_53.jpg', '9_54.jpg', '9_55.jpg', '9_56.jpg', '9_57.jpg', '9_58.jpg', '9_59.jpg', '9_6.jpg', '9_60.jpg', '9_61.jpg', '9_62.jpg', '9_63.jpg', '9_64.jpg', '9_65.jpg', '9_66.jpg', '9_67.jpg', '9_68.jpg', '9_69.jpg', '9_7.jpg', '9_70.jpg', '9_71.jpg', '9_72.jpg', '9_73.jpg', '9_74.jpg', '9_75.jpg', '9_76.jpg', '9_77.jpg', '9_78.jpg', '9_79.jpg', '9_8.jpg', '9_80.jpg', '9_81.jpg', '9_82.jpg', '9_83.jpg', '9_84.jpg', '9_85.jpg', '9_86.jpg', '9_87.jpg', '9_88.jpg', '9_89.jpg', '9_9.jpg', '9_90.jpg', '9_91.jpg', '9_92.jpg', '9_93.jpg', '9_94.jpg', '9_95.jpg', '9_96.jpg', '9_97.jpg', '9_98.jpg', '9_99.jpg']\n"
     ]
    }
   ],
   "source": [
    "Foods = os.listdir(path_train_orig)\n",
    "Foods.sort()\n",
    "print(Foods)\n",
    "labels = Foods"
   ]
  },
  {
   "cell_type": "markdown",
   "metadata": {},
   "source": [
    "The naming convention is {ClassID}_{ImageID}.jpg, where ID 0-10 refers to the 11 food categories respectively."
   ]
  },
  {
   "cell_type": "markdown",
   "metadata": {},
   "source": [
    "### Resize images"
   ]
  },
  {
   "cell_type": "code",
   "execution_count": 6,
   "metadata": {},
   "outputs": [
    {
     "data": {
      "text/plain": [
       "'validation\\\\9_99.jpg'"
      ]
     },
     "metadata": {},
     "output_type": "display_data"
    }
   ],
   "source": [
    "#Resize images\n",
    "data_dir = \"validation\" # gives the path of folder you want to resize \n",
    "files = os.listdir(data_dir)\n",
    "save_dir = data_dir + \"_216\"\n",
    "if not os.path.exists(save_dir):\n",
    "    os.mkdir(save_dir)\n",
    "for file in files: # number of files to go through\n",
    "    im = Image.open(os.path.join(data_dir, file))\n",
    "    w, h = im.size\n",
    "    \n",
    "    if w > 255 and h > 255:\n",
    "        \n",
    "        # crop\n",
    "        if w > h:\n",
    "            w1 = (w - h)/2\n",
    "            im = im.crop((w1, 0, w1 + h, h))\n",
    "        elif h > w:\n",
    "            h1 = (h - w)/2\n",
    "            im = im.crop((0, h1, w, h1 + w))\n",
    "\n",
    "        display(os.path.join(data_dir, file))\n",
    "        im = im.resize((512,512), Image.ANTIALIAS)\n",
    "        clear_output(wait=True)\n",
    "        file_new = file.split('.jpg')[0] + '_s.jpg'\n",
    "        im.save(os.path.join(save_dir, file_new), \"JPEG\")"
   ]
  },
  {
   "cell_type": "code",
   "execution_count": null,
   "metadata": {},
   "outputs": [],
   "source": [
    "path_val_orig = './validation_216'\n",
    "x_val, y_val = load_dataset(path_val_orig)"
   ]
  },
  {
   "cell_type": "markdown",
   "metadata": {},
   "source": [
    "### Add date stamps"
   ]
  },
  {
   "cell_type": "code",
   "execution_count": null,
   "metadata": {},
   "outputs": [],
   "source": [
    "# Make date stamps on images using OpenCV library\n",
    "def put_date_on_image(img):\n",
    "    random_time = timedelta(seconds=random.randint(0,math.pow(10,9)))\n",
    "    random_date = (str(datetime.now() + random_time)[:10])\n",
    "    font = cv2.FONT_HERSHEY_SIMPLEX\n",
    "    text_size = cv2.getTextSize(random_date, font, 1, 2)\n",
    "    x_max = len(img[0]) - text_size[0][0] # image length - text length\n",
    "    y_min = text_size[0][1]  # text height\n",
    "    y_max = len(img)  # image height\n",
    "    pos = (random.randint(0, x_max), random.randint(y_min, y_max))\n",
    "    draw = cv2.putText(img, random_date, pos, font, 1, (255, 255, 255), 2, cv2.LINE_AA)\n",
    "    return draw.reshape(draw.shape[0], draw.shape[1], 3)"
   ]
  },
  {
   "cell_type": "code",
   "execution_count": null,
   "metadata": {},
   "outputs": [],
   "source": [
    "# Show some of the images in jupyter\n",
    "def show(imgs, num=10):\n",
    "    n = num\n",
    "    plt.figure(figsize=(20, 10))\n",
    "\n",
    "    for i in range(n):\n",
    "        ax = plt.subplot(2, n, i+1)\n",
    "        plt.imshow(imgs[i])\n",
    "        ax.get_xaxis().set_visible(False)\n",
    "        ax.get_yaxis().set_visible(False)\n",
    "    plt.show()"
   ]
  },
  {
   "cell_type": "code",
   "execution_count": null,
   "metadata": {},
   "outputs": [],
   "source": [
    "# Process all food11 images\n",
    "data_dir = \"evaluation_\" # gives the path\n",
    "save = True # if you want to save to pc\n",
    "save_dir = data_dir + \"_datestamp\"\n",
    "if save and not os.path.exists(save_dir):\n",
    "    os.mkdir(save_dir)\n",
    "data_path = os.path.join(data_dir, '*g')\n",
    "files = glob.glob(data_path)\n",
    "\n",
    "data = []\n",
    "for f in files:\n",
    "    clear_output(wait=True)\n",
    "    img = cv2.imread(f)\n",
    "    draw = put_date_on_image(np.asarray(img))\n",
    "    data.append(draw[:, :, ::-1])\n",
    "    if not save:\n",
    "        if '20' in f:\n",
    "            break\n",
    "    else:\n",
    "        f_new = os.path.join(save_dir, f.split('\\\\')[1])\n",
    "        display(\"saving images with date stamp:\", f_new)\n",
    "        cv2.imwrite(f_new, img)\n",
    "clear_output(wait=True)\n"
   ]
  },
  {
   "cell_type": "code",
   "execution_count": null,
   "metadata": {},
   "outputs": [],
   "source": []
  }
 ],
 "metadata": {
  "kernelspec": {
   "display_name": "Python 3",
   "language": "python",
   "name": "python3"
  },
  "language_info": {
   "codemirror_mode": {
    "name": "ipython",
    "version": 3
   },
   "file_extension": ".py",
   "mimetype": "text/x-python",
   "name": "python",
   "nbconvert_exporter": "python",
   "pygments_lexer": "ipython3",
   "version": "3.8.5"
  }
 },
 "nbformat": 4,
 "nbformat_minor": 4
}
