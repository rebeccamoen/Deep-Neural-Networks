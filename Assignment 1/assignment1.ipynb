{
 "cells": [
  {
   "cell_type": "code",
   "execution_count": 128,
   "metadata": {},
   "outputs": [],
   "source": [
    "class KNearestNeighbours(object):\n",
    "    def __init__(self, k):\n",
    "        self.k = k\n",
    "\n",
    "    @staticmethod\n",
    "    def _euclidean_distance(v1, v2):\n",
    "        v1, v2 = np.array(v1), np.array(v2)\n",
    "        distance = 0\n",
    "        for i in range(len(v1) - 1):\n",
    "            distance += (v1[i] - v2[i]) ** 2\n",
    "        return np.sqrt(distance)\n",
    "    \n",
    "    def predict(self, train_set, test_instance):\n",
    "        distances = []\n",
    "        for i in range(len(train_set)):\n",
    "            dist = self._euclidean_distance(train_set[i][:-1], test_instance)\n",
    "            distances.append((train_set[i], dist))\n",
    "        distances.sort(key=lambda x: x[1])\n",
    "\n",
    "        neighbours = []\n",
    "        for i in range(self.k):\n",
    "            neighbours.append(distances[i][0])\n",
    "\n",
    "        classes = {}\n",
    "        for i in range(len(neighbours)):\n",
    "            response = neighbours[i][-1]\n",
    "            if response in classes:\n",
    "                classes[response] += 1\n",
    "            else:\n",
    "                classes[response] = 1\n",
    "\n",
    "        sorted_classes = sorted(classes.items(), key=lambda x: x[1], reverse=True)\n",
    "        return sorted_classes[0][0]\n",
    "    \n",
    "    @staticmethod\n",
    "    def evaluate(y_true, y_pred):\n",
    "        n_correct = 0\n",
    "        for act, pred in zip(y_true, y_pred):\n",
    "            if act == pred:\n",
    "                n_correct += 1\n",
    "        return n_correct / len(y_true)"
   ]
  },
  {
   "cell_type": "code",
   "execution_count": 156,
   "metadata": {},
   "outputs": [
    {
     "data": {
      "text/html": [
       "<div>\n",
       "<style scoped>\n",
       "    .dataframe tbody tr th:only-of-type {\n",
       "        vertical-align: middle;\n",
       "    }\n",
       "\n",
       "    .dataframe tbody tr th {\n",
       "        vertical-align: top;\n",
       "    }\n",
       "\n",
       "    .dataframe thead th {\n",
       "        text-align: right;\n",
       "    }\n",
       "</style>\n",
       "<table border=\"1\" class=\"dataframe\">\n",
       "  <thead>\n",
       "    <tr style=\"text-align: right;\">\n",
       "      <th></th>\n",
       "      <th>Pregnancies</th>\n",
       "      <th>Glucose</th>\n",
       "      <th>BloodPressure</th>\n",
       "      <th>SkinThickness</th>\n",
       "      <th>Insulin</th>\n",
       "      <th>BMI</th>\n",
       "      <th>DiabetesPedigreeFunction</th>\n",
       "      <th>Age</th>\n",
       "      <th>Outcome</th>\n",
       "    </tr>\n",
       "  </thead>\n",
       "  <tbody>\n",
       "    <tr>\n",
       "      <th>0</th>\n",
       "      <td>6</td>\n",
       "      <td>148</td>\n",
       "      <td>72</td>\n",
       "      <td>35</td>\n",
       "      <td>0</td>\n",
       "      <td>33.6</td>\n",
       "      <td>0.627</td>\n",
       "      <td>50</td>\n",
       "      <td>1</td>\n",
       "    </tr>\n",
       "    <tr>\n",
       "      <th>1</th>\n",
       "      <td>1</td>\n",
       "      <td>85</td>\n",
       "      <td>66</td>\n",
       "      <td>29</td>\n",
       "      <td>0</td>\n",
       "      <td>26.6</td>\n",
       "      <td>0.351</td>\n",
       "      <td>31</td>\n",
       "      <td>0</td>\n",
       "    </tr>\n",
       "    <tr>\n",
       "      <th>2</th>\n",
       "      <td>8</td>\n",
       "      <td>183</td>\n",
       "      <td>64</td>\n",
       "      <td>0</td>\n",
       "      <td>0</td>\n",
       "      <td>23.3</td>\n",
       "      <td>0.672</td>\n",
       "      <td>32</td>\n",
       "      <td>1</td>\n",
       "    </tr>\n",
       "    <tr>\n",
       "      <th>3</th>\n",
       "      <td>1</td>\n",
       "      <td>89</td>\n",
       "      <td>66</td>\n",
       "      <td>23</td>\n",
       "      <td>94</td>\n",
       "      <td>28.1</td>\n",
       "      <td>0.167</td>\n",
       "      <td>21</td>\n",
       "      <td>0</td>\n",
       "    </tr>\n",
       "    <tr>\n",
       "      <th>4</th>\n",
       "      <td>0</td>\n",
       "      <td>137</td>\n",
       "      <td>40</td>\n",
       "      <td>35</td>\n",
       "      <td>168</td>\n",
       "      <td>43.1</td>\n",
       "      <td>2.288</td>\n",
       "      <td>33</td>\n",
       "      <td>1</td>\n",
       "    </tr>\n",
       "  </tbody>\n",
       "</table>\n",
       "</div>"
      ],
      "text/plain": [
       "   Pregnancies  Glucose  BloodPressure  SkinThickness  Insulin   BMI  \\\n",
       "0            6      148             72             35        0  33.6   \n",
       "1            1       85             66             29        0  26.6   \n",
       "2            8      183             64              0        0  23.3   \n",
       "3            1       89             66             23       94  28.1   \n",
       "4            0      137             40             35      168  43.1   \n",
       "\n",
       "   DiabetesPedigreeFunction  Age  Outcome  \n",
       "0                     0.627   50        1  \n",
       "1                     0.351   31        0  \n",
       "2                     0.672   32        1  \n",
       "3                     0.167   21        0  \n",
       "4                     2.288   33        1  "
      ]
     },
     "execution_count": 156,
     "metadata": {},
     "output_type": "execute_result"
    }
   ],
   "source": [
    "import pandas as pd\n",
    "import numpy\n",
    "\n",
    "dataset = pd.read_csv(\"diabetes.csv\", delimiter=\",\")\n",
    "Y = dataset.Outcome\n",
    "dataset.head()"
   ]
  },
  {
   "cell_type": "code",
   "execution_count": 215,
   "metadata": {},
   "outputs": [
    {
     "data": {
      "text/plain": [
       "(576, 192)"
      ]
     },
     "execution_count": 215,
     "metadata": {},
     "output_type": "execute_result"
    }
   ],
   "source": [
    "def train_test_split(dataset, test_size=0.25, random_state=101):\n",
    "    n_test = int(len(dataset) * test_size)\n",
    "    test_set = dataset.sample(n_test)\n",
    "    train_set = []\n",
    "    for ind in dataset.index:\n",
    "        if ind in test_set.index:\n",
    "            continue\n",
    "        train_set.append(dataset.iloc[ind])\n",
    "        \n",
    "    train_set = pd.DataFrame(train_set).astype(float).values.tolist()\n",
    "    test_set = test_set.astype(float).values.tolist()\n",
    "    \n",
    "    return train_set, test_set\n",
    "\n",
    "train_set, test_set = train_test_split(dataset)\n",
    "len(train_set), len(test_set)"
   ]
  },
  {
   "cell_type": "code",
   "execution_count": 216,
   "metadata": {},
   "outputs": [
    {
     "data": {
      "text/plain": [
       "0.7135416666666666"
      ]
     },
     "execution_count": 216,
     "metadata": {},
     "output_type": "execute_result"
    }
   ],
   "source": [
    "knn = KNearestNeighbours(k=3)\n",
    "preds = []\n",
    "\n",
    "for row in test_set:\n",
    "    predictors_only = row[:-1]\n",
    "    prediction = knn.predict(train_set, predictors_only)\n",
    "    preds.append(prediction)\n",
    "    \n",
    "actual = np.array(test_set)[:, -1]\n",
    "knn.evaluate(actual, preds)"
   ]
  },
  {
   "cell_type": "code",
   "execution_count": 244,
   "metadata": {},
   "outputs": [
    {
     "data": {
      "text/plain": [
       "[(1, 0.6927083333333334),\n",
       " (3, 0.7135416666666666),\n",
       " (5, 0.71875),\n",
       " (7, 0.734375),\n",
       " (9, 0.7447916666666666),\n",
       " (11, 0.7552083333333334),\n",
       " (13, 0.7395833333333334),\n",
       " (15, 0.71875),\n",
       " (17, 0.7552083333333334),\n",
       " (19, 0.7864583333333334),\n",
       " (21, 0.75),\n",
       " (23, 0.7708333333333334),\n",
       " (25, 0.7760416666666666),\n",
       " (27, 0.7760416666666666),\n",
       " (29, 0.7708333333333334)]"
      ]
     },
     "execution_count": 244,
     "metadata": {},
     "output_type": "execute_result"
    }
   ],
   "source": [
    "k_evaluations = []\n",
    "\n",
    "for k in range(1, 30, 2):\n",
    "    knn = KNearestNeighbours(k=k)\n",
    "    preds = []\n",
    "    \n",
    "    for row in test_set:\n",
    "        predictors_only = row[:-1]\n",
    "        prediction = knn.predict(train_set, predictors_only)\n",
    "        preds.append(prediction)\n",
    "    \n",
    "    curr_accuracy = knn.evaluate(actual, preds)\n",
    "    k_evaluations.append((k, curr_accuracy))\n",
    "\n",
    "k_evaluations"
   ]
  },
  {
   "cell_type": "code",
   "execution_count": 245,
   "metadata": {},
   "outputs": [
    {
     "name": "stdout",
     "output_type": "stream",
     "text": [
      "              precision    recall  f1-score   support\n",
      "\n",
      "         0.0       0.77      0.92      0.84       126\n",
      "         1.0       0.76      0.48      0.59        66\n",
      "\n",
      "    accuracy                           0.77       192\n",
      "   macro avg       0.77      0.70      0.72       192\n",
      "weighted avg       0.77      0.77      0.76       192\n",
      "\n"
     ]
    }
   ],
   "source": [
    "from sklearn.metrics import classification_report\n",
    "print(classification_report(actual,preds))"
   ]
  }
 ],
 "metadata": {
  "kernelspec": {
   "display_name": "Python 3",
   "language": "python",
   "name": "python3"
  },
  "language_info": {
   "codemirror_mode": {
    "name": "ipython",
    "version": 3
   },
   "file_extension": ".py",
   "mimetype": "text/x-python",
   "name": "python",
   "nbconvert_exporter": "python",
   "pygments_lexer": "ipython3",
   "version": "3.8.3"
  }
 },
 "nbformat": 4,
 "nbformat_minor": 4
}
